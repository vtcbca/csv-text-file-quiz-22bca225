{
 "cells": [
  {
   "cell_type": "code",
   "execution_count": null,
   "id": "25264925",
   "metadata": {},
   "outputs": [],
   "source": [
    "import csv"
   ]
  },
  {
   "cell_type": "code",
   "execution_count": null,
   "id": "9b312719",
   "metadata": {},
   "outputs": [],
   "source": [
    "file=open('contact.csv','w',newline='')"
   ]
  },
  {
   "cell_type": "code",
   "execution_count": null,
   "id": "66511340",
   "metadata": {},
   "outputs": [],
   "source": [
    "w=csv.writer(file)"
   ]
  },
  {
   "cell_type": "code",
   "execution_count": null,
   "id": "0686a469",
   "metadata": {},
   "outputs": [],
   "source": [
    "header=['Name','Contact']"
   ]
  },
  {
   "cell_type": "code",
   "execution_count": null,
   "id": "b3c31531",
   "metadata": {},
   "outputs": [],
   "source": [
    "w.writerow(header)"
   ]
  },
  {
   "cell_type": "code",
   "execution_count": null,
   "id": "2a16388a",
   "metadata": {},
   "outputs": [],
   "source": [
    "List=[]\n",
    "for i in range(5):\n",
    "    name=input(\"Enter person name:\")\n",
    "    contact=int(input(\"Enter person contact number:\"))\n",
    "    l=[name,contact]\n",
    "    List.append(l)"
   ]
  },
  {
   "cell_type": "code",
   "execution_count": 7,
   "id": "cdea2f10",
   "metadata": {},
   "outputs": [],
   "source": [
    "w.writerows(List)"
   ]
  },
  {
   "cell_type": "code",
   "execution_count": 8,
   "id": "5b862205",
   "metadata": {},
   "outputs": [],
   "source": [
    "# file.close()"
   ]
  },
  {
   "cell_type": "code",
   "execution_count": 9,
   "id": "21c546ea",
   "metadata": {},
   "outputs": [],
   "source": [
    "file=open('contact.csv','r',newline='')\n"
   ]
  },
  {
   "cell_type": "code",
   "execution_count": 10,
   "id": "77d2dd0c",
   "metadata": {},
   "outputs": [],
   "source": [
    "read=csv.reader(file)\n"
   ]
  },
  {
   "cell_type": "code",
   "execution_count": 11,
   "id": "84812e6c",
   "metadata": {},
   "outputs": [
    {
     "name": "stdout",
     "output_type": "stream",
     "text": [
      "Enter a person name that you want search contact number:yash\n",
      "\n",
      "Name:yash\n",
      "contact:8956478956\n"
     ]
    }
   ],
   "source": [
    "name = input(\"Enter a person name that you want search contact number:\")\n",
    "for r in read:\n",
    "    if r[0]==name:\n",
    "        print(\"\\nName:{}\".format(r[0]))\n",
    "        print(\"contact:{}\".format(r[1]))\n"
   ]
  },
  {
   "cell_type": "code",
   "execution_count": 16,
   "id": "fb8bece0",
   "metadata": {},
   "outputs": [],
   "source": [
    "file.close()"
   ]
  },
  {
   "cell_type": "code",
   "execution_count": null,
   "id": "95b4e887",
   "metadata": {},
   "outputs": [],
   "source": []
  }
 ],
 "metadata": {
  "kernelspec": {
   "display_name": "Python 3 (ipykernel)",
   "language": "python",
   "name": "python3"
  },
  "language_info": {
   "codemirror_mode": {
    "name": "ipython",
    "version": 3
   },
   "file_extension": ".py",
   "mimetype": "text/x-python",
   "name": "python",
   "nbconvert_exporter": "python",
   "pygments_lexer": "ipython3",
   "version": "3.9.6"
  }
 },
 "nbformat": 4,
 "nbformat_minor": 5
}
